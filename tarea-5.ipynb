{
 "cells": [
  {
   "cell_type": "code",
   "execution_count": 1,
   "metadata": {},
   "outputs": [],
   "source": [
    "import random\n",
    "import math"
   ]
  },
  {
   "cell_type": "code",
   "execution_count": 2,
   "metadata": {},
   "outputs": [],
   "source": [
    "def isPrime(num):\n",
    "    if num > 2:  \n",
    "        for n in range(2,num):  \n",
    "            if (num % n) == 0:  \n",
    "                return False\n",
    "        return True\n",
    "    else:\n",
    "        return False\n",
    "\n",
    "def generatePrime(max):\n",
    "    for i in range(2, max):\n",
    "        num = random.randint(1, max)\n",
    "        if isPrime(num):\n",
    "            return num"
   ]
  },
  {
   "cell_type": "code",
   "execution_count": 3,
   "metadata": {},
   "outputs": [],
   "source": [
    "def gcd(a,b):\n",
    "    while b != 0:\n",
    "        a, b = b, a % b\n",
    "    return a\n",
    "\n",
    "def primRoots(modulo):\n",
    "    roots = []\n",
    "    required_set = set(num for num in range (1, modulo) if gcd(num, modulo) == 1)\n",
    "\n",
    "    for g in range(1, modulo):\n",
    "        actual_set = set(pow(g, powers) % modulo for powers in range (1, modulo))\n",
    "        if required_set == actual_set:\n",
    "            return g       \n",
    "    "
   ]
  },
  {
   "cell_type": "code",
   "execution_count": 14,
   "metadata": {},
   "outputs": [
    {
     "name": "stdout",
     "output_type": "stream",
     "text": [
      "The Value of P is : 7297\n",
      "The Value of G is : 5\n",
      "\n",
      "The Private Key a is : 3431\n",
      "Sharable number x is : 1400\n",
      "\n",
      "The Private Key b is : 6647\n",
      "Sharable number y is : 1828\n",
      "\n",
      "Secret key from a is : 1134\n",
      "Secret Key from b is : 1134\n",
      "Both keys are equal!!!\n"
     ]
    }
   ],
   "source": [
    "# public keys G and P are generated\n",
    "\n",
    "P = generatePrime(10000)\n",
    "G = primRoots(P)\n",
    "\n",
    "print('The Value of P is : %d'%(P))\n",
    "print('The Value of G is : %d'%(G))\n",
    "\n",
    "print()\n",
    "\n",
    "# Private key a is generated\n",
    "a = random.randint(1, 10000)\n",
    "print('The Private Key a is : %d'%(a))\n",
    "# Generates the sharable number x from a\n",
    "x = int(pow(G,a,P))\n",
    "print('Sharable number x is : %d'%(x))\n",
    "\n",
    "print()\n",
    "\n",
    "# Private key b is generated\n",
    "b = random.randint(1, 10000)\n",
    "print('The Private Key b is : %d'%(b))\n",
    "# Generates the sharable number y from b\n",
    "y = int(pow(G,b,P))\n",
    "print('Sharable number y is : %d'%(y))\n",
    "\n",
    "print()\n",
    "\n",
    "# Secret key is rebuilt from a and the sharable number y\n",
    "ka = int(pow(y,a,P))\n",
    "\n",
    "# Secret key is rebuilt from b and the sharable number x\n",
    "kb = int(pow(x,b,P))\n",
    "\n",
    "print('Secret key from a is : %d'%(ka))\n",
    "print('Secret Key from b is : %d'%(kb))\n",
    "\n",
    "if (ka == kb):\n",
    "    print (\"Both keys are equal!!!\")"
   ]
  }
 ],
 "metadata": {
  "interpreter": {
   "hash": "767d51c1340bd893661ea55ea3124f6de3c7a262a8b4abca0554b478b1e2ff90"
  },
  "kernelspec": {
   "display_name": "Python 3 (ipykernel)",
   "language": "python",
   "name": "python3"
  },
  "language_info": {
   "codemirror_mode": {
    "name": "ipython",
    "version": 3
   },
   "file_extension": ".py",
   "mimetype": "text/x-python",
   "name": "python",
   "nbconvert_exporter": "python",
   "pygments_lexer": "ipython3",
   "version": "3.9.7"
  }
 },
 "nbformat": 4,
 "nbformat_minor": 2
}
